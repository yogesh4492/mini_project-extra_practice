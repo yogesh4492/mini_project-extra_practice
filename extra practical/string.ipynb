{
 "cells": [
  {
   "cell_type": "code",
   "execution_count": 1,
   "id": "80b584d7",
   "metadata": {},
   "outputs": [
    {
     "name": "stdout",
     "output_type": "stream",
     "text": [
      "String is = Yogesh Hi\n",
      "Total Word In string=  9\n"
     ]
    }
   ],
   "source": [
    "\"\"\"1.  Write a program in C to find the length of a string without using library \n",
    "functions.\"\"\"\n",
    "\n",
    "text=input(\"ENter String= \")\n",
    "count=0\n",
    "print(f\"String is = {text}\")\n",
    "for i in text:\n",
    "    count+=1\n",
    "print(\"Total Word In string= \",count)"
   ]
  },
  {
   "cell_type": "code",
   "execution_count": 2,
   "id": "0215391a",
   "metadata": {},
   "outputs": [
    {
     "name": "stdout",
     "output_type": "stream",
     "text": [
      "y\n",
      "o\n",
      "g\n",
      "e\n",
      "s\n",
      "h\n"
     ]
    }
   ],
   "source": [
    "# 2.  Write a program in C to separate individual characters from a string\n",
    "\n",
    "text=input(\"Enter String= \")\n",
    "for i in text:\n",
    "    print(i)"
   ]
  },
  {
   "cell_type": "code",
   "execution_count": 3,
   "id": "0f707d8d",
   "metadata": {},
   "outputs": [
    {
     "name": "stdout",
     "output_type": "stream",
     "text": [
      "String IS=  yogesh\n",
      "hsegoy\n",
      "hsegoy\n"
     ]
    }
   ],
   "source": [
    "# 3.  Write a program in C to print individual characters of a string in reverse order\n",
    "\n",
    "text=input(\"Enter String= \")\n",
    "print(\"String IS= \",text)\n",
    "rev=\"\"\n",
    "for i in text:\n",
    "    rev=i+rev\n",
    "print(rev)\n",
    "#using slicing\n",
    "print(text[::-1])"
   ]
  },
  {
   "cell_type": "code",
   "execution_count": 5,
   "id": "2bc08c15",
   "metadata": {},
   "outputs": [
    {
     "name": "stdout",
     "output_type": "stream",
     "text": [
      "Total Word Is = 1\n",
      "Total Word is =  3\n"
     ]
    }
   ],
   "source": [
    "# 4.  Write a program in C to count the total number of words in a string.\n",
    "text=input(\"Enter String= \")\n",
    "count=text.split()\n",
    "print(f\"Total Word Is = {len(count)}\")\n",
    "\n",
    "\n",
    "#  using for loop \n",
    "count=1\n",
    "text=input(\"Enter the string= \")\n",
    "for i in text:\n",
    "      if i==\" \" or i==\"  \":\n",
    "            count+=1\n",
    "print(\"Total Word is = \",count)"
   ]
  },
  {
   "cell_type": "code",
   "execution_count": null,
   "id": "ce502e00",
   "metadata": {},
   "outputs": [
    {
     "name": "stdout",
     "output_type": "stream",
     "text": [
      "String is not match\n"
     ]
    }
   ],
   "source": [
    "# 5.  Write a program in C to compare two strings without using string library \n",
    "# functions.\n",
    "\n",
    "# using comparition opertor \n",
    "\n",
    "text1=input(\"ENter String 1= \")\n",
    "text2=input(\"ENter String 2= \")\n",
    "count=1\n",
    "if len(text1)==len(text2):\n",
    "    for i in range(len(text1)):\n",
    "        if text1[i]!=text2[i]:\n",
    "            count=0\n",
    "else:\n",
    "    count=0\n",
    "if count==0:\n",
    "    print(\"String is not match\")\n",
    "else:\n",
    "    print(\" String is Same\")\n",
    "        \n"
   ]
  },
  {
   "cell_type": "code",
   "execution_count": 11,
   "id": "66fd436f",
   "metadata": {},
   "outputs": [
    {
     "name": "stdout",
     "output_type": "stream",
     "text": [
      "True\n"
     ]
    }
   ],
   "source": [
    "text=\"Yogesh\"\n",
    "text1=\"Yogesh\"\n",
    "print(text==text1)"
   ]
  },
  {
   "cell_type": "code",
   "execution_count": 4,
   "id": "6d18e38d",
   "metadata": {},
   "outputs": [
    {
     "name": "stdout",
     "output_type": "stream",
     "text": [
      "text is =  hello123@gmail.com\n",
      "Total Alphabet is= 13\n",
      "Total Digit is = 3\n",
      "Total Special Symbol= 2\n"
     ]
    }
   ],
   "source": [
    "# 6.  Write a program in C to count the total number of alphabets, digits and special \n",
    "# characters in a string.\n",
    "\n",
    "text=input(\"ENter String= \")\n",
    "count_alpha=0\n",
    "count_digit=0\n",
    "count_speci_symbol=0\n",
    "for i in text:\n",
    "    if i==\" \" or i==\"  \":\n",
    "        continue\n",
    "    elif i.isdigit():\n",
    "        count_digit+=1\n",
    "    elif i.isalpha():\n",
    "        count_alpha+=1\n",
    "    \n",
    "    else:\n",
    "        count_speci_symbol+=1\n",
    "print(\"text is = \",text)\n",
    "print(f\"Total Alphabet is= {count_alpha}\")\n",
    "print(f\"Total Digit is = {count_digit}\")\n",
    "print(f\"Total Special Symbol= {count_speci_symbol}\")"
   ]
  },
  {
   "cell_type": "code",
   "execution_count": 11,
   "id": "6673aa64",
   "metadata": {},
   "outputs": [
    {
     "name": "stdout",
     "output_type": "stream",
     "text": [
      "Original String= Yogesh Patel\n",
      "Yogesh Patel\n",
      "Yogesh Patel\n",
      "Yogesh Patel\n",
      "Yogesh Patel\n"
     ]
    }
   ],
   "source": [
    "# 7.  Write a program in C to copy one string to another string.\n",
    "\n",
    "text=input(\"Enter String= \")\n",
    "text1=\"\"\n",
    "text2=\"\"\n",
    "print(f\"Original String= {text}\")\n",
    "#using join\n",
    "text1+=\"\".join(text)\n",
    "print(text1)\n",
    "\n",
    "#using concatenation\n",
    "text2+=text1\n",
    "print(text2)\n",
    "\n",
    "# using assignment operator\n",
    "\n",
    "text3=text\n",
    "print(text3)\n",
    "\n",
    "#using slicing \n",
    "text4=text[:]\n",
    "print(text4)"
   ]
  },
  {
   "cell_type": "code",
   "execution_count": 15,
   "id": "2d61c5a7",
   "metadata": {},
   "outputs": [
    {
     "name": "stdout",
     "output_type": "stream",
     "text": [
      "Total Vowel is = 7\n",
      "Total Consonant is= 6\n"
     ]
    }
   ],
   "source": [
    "# 8.  Write a program in C to count the total number of vowels or consonants in a \n",
    "# string.\n",
    "count_vowel=0\n",
    "count_consonant=0\n",
    "text=input(\"Enter String= \").lower()\n",
    "if text.isalpha():\n",
    "    for i in text:\n",
    "        if i=='a' or i=='e' or i=='i' or i=='o' or i=='u':\n",
    "            count_vowel+=1\n",
    "        else:\n",
    "            count_consonant+=1\n",
    "print(f\"Total Vowel is = {count_vowel}\")\n",
    "print(f\"Total Consonant is= {count_consonant}\")\n",
    "\n",
    "\n",
    " "
   ]
  },
  {
   "cell_type": "code",
   "execution_count": null,
   "id": "3ea5f02f",
   "metadata": {},
   "outputs": [
    {
     "name": "stdout",
     "output_type": "stream",
     "text": [
      "['hello', 'how', 'are', 'you']\n",
      "hello\n",
      "5\n",
      "['hello', 'How']\n",
      "5\n"
     ]
    }
   ],
   "source": [
    "# 9.  Write a program in C to find the maximum number of characters in a string.\n",
    "\n",
    "text=input(\"Enter String= \")\n",
    "sp=text.split()\n",
    "max_len=0\n",
    "print(sp)\n",
    "for i in sp:\n",
    "    if len(i)>max_len:\n",
    "        max_len=len(i)\n",
    "        print(i)\n",
    "print(max_len)\n",
    "\n",
    "string=\"hello How \"\n",
    "words=string.split()\n",
    "print(words)\n",
    "\n",
    "max_len=max(len(word) for word in words)\n",
    "print(max_len)"
   ]
  },
  {
   "cell_type": "code",
   "execution_count": 35,
   "id": "70b59153",
   "metadata": {},
   "outputs": [
    {
     "name": "stdout",
     "output_type": "stream",
     "text": [
      "-1\n",
      "Substring not found\n"
     ]
    }
   ],
   "source": [
    "# 10. Write a program in C to extract a substring from a given string\n",
    "\n",
    "text=input(\"Enter String= \")\n",
    "find_substring=input(\"Enter Substring= \")\n",
    "print(text.find(find_substring))\n",
    "    \n",
    "if find_substring in text:\n",
    "    print(\"Substring is available\")\n",
    "else:\n",
    "    print(\"Substring not found\")"
   ]
  },
  {
   "cell_type": "code",
   "execution_count": 47,
   "id": "ea8e696d",
   "metadata": {},
   "outputs": [
    {
     "name": "stdout",
     "output_type": "stream",
     "text": [
      "Original string = HELLO world\n",
      "hello WORLD"
     ]
    }
   ],
   "source": [
    "# 11. Write a program in C to read a sentence and replace lowercase characters with \n",
    "# uppercase and vice versa.\n",
    "\n",
    "#using for loop\n",
    "result=\"\"\n",
    "text=input(\"Enter String= \")\n",
    "print(f\"Original string = {text}\")\n",
    "for i in text:\n",
    "    if i>='A' and i<='Z':\n",
    "        result=ord(i) + 32\n",
    "        print(chr(result),end=\"\")\n",
    "    elif i>='a' and i<='z':\n",
    "        result= ord(i)- 32\n",
    "        print(chr(result),end=\"\")\n",
    "    else:\n",
    "        print(i,end=\"\")\n",
    "\n"
   ]
  },
  {
   "cell_type": "code",
   "execution_count": null,
   "id": "41b6776f",
   "metadata": {},
   "outputs": [
    {
     "name": "stdout",
     "output_type": "stream",
     "text": [
      "1\n"
     ]
    }
   ],
   "source": [
    "# 12. Write a program in C to find the number of times a given word 'is' appears in \n",
    "# the given string.\n",
    "\n",
    "text=input(\"Enter String= \")\n",
    "print(text.count(\"is\"))\n"
   ]
  },
  {
   "cell_type": "code",
   "execution_count": 51,
   "id": "79f005dd",
   "metadata": {},
   "outputs": [
    {
     "name": "stdout",
     "output_type": "stream",
     "text": [
      "hello"
     ]
    }
   ],
   "source": [
    "# 13. Write a program in C to remove characters from a string except alphabets.\n",
    "\n",
    "text=input(\"Enter String= \")\n",
    "for i in text:\n",
    "    if i>='0' and i<='9':\n",
    "        continue\n",
    "    elif not i.isalpha():\n",
    "        continue\n",
    "    else:\n",
    "        print(i,end=\"\")"
   ]
  },
  {
   "cell_type": "code",
   "execution_count": 53,
   "id": "bd66dfec",
   "metadata": {},
   "outputs": [
    {
     "name": "stdout",
     "output_type": "stream",
     "text": [
      "Hello World  My name is Yogesh\n"
     ]
    }
   ],
   "source": [
    "# 14. Write a program in C to combine two strings manually\n",
    "\n",
    "text1=input(\"Enter String1= \")\n",
    "text2=input(\"Enter String2= \")\n",
    "text3=text1+\" \"+text2\n",
    "print(text3)"
   ]
  },
  {
   "cell_type": "code",
   "execution_count": null,
   "id": "e2986969",
   "metadata": {},
   "outputs": [
    {
     "name": "stdout",
     "output_type": "stream",
     "text": [
      "Maximum=  name\n",
      "min=  0\n"
     ]
    }
   ],
   "source": [
    "# 15. Write a program in C to find the largest and smallest words in a string.\n",
    "\n",
    "stri=input(\"Enter String= \")\n",
    "sp=stri.split()\n",
    "for i in sp:\n",
    "    max=0\n",
    "    min=0\n",
    "    if len(i)> max:\n",
    "        max=i\n",
    "    elif len(i)>min:\n",
    "        min=i\n",
    "\n",
    "print(\"Maximum= \",max)\n",
    "print(\"min= \",min)"
   ]
  },
  {
   "cell_type": "code",
   "execution_count": null,
   "id": "34fef0f4",
   "metadata": {},
   "outputs": [],
   "source": []
  }
 ],
 "metadata": {
  "kernelspec": {
   "display_name": "Python 3",
   "language": "python",
   "name": "python3"
  },
  "language_info": {
   "codemirror_mode": {
    "name": "ipython",
    "version": 3
   },
   "file_extension": ".py",
   "mimetype": "text/x-python",
   "name": "python",
   "nbconvert_exporter": "python",
   "pygments_lexer": "ipython3",
   "version": "3.12.4"
  }
 },
 "nbformat": 4,
 "nbformat_minor": 5
}
